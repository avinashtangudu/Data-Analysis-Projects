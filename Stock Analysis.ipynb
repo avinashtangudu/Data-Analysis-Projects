{
 "cells": [
  {
   "cell_type": "code",
   "execution_count": 30,
   "metadata": {},
   "outputs": [],
   "source": [
    "# Stock price analysis you can do before buying any stock\n",
    "#"
   ]
  },
  {
   "cell_type": "code",
   "execution_count": 8,
   "metadata": {},
   "outputs": [
    {
     "data": {
      "text/html": [
       "<div>\n",
       "<style>\n",
       "    .dataframe thead tr:only-child th {\n",
       "        text-align: right;\n",
       "    }\n",
       "\n",
       "    .dataframe thead th {\n",
       "        text-align: left;\n",
       "    }\n",
       "\n",
       "    .dataframe tbody tr th {\n",
       "        vertical-align: top;\n",
       "    }\n",
       "</style>\n",
       "<table border=\"1\" class=\"dataframe\">\n",
       "  <thead>\n",
       "    <tr style=\"text-align: right;\">\n",
       "      <th></th>\n",
       "      <th>Open</th>\n",
       "      <th>High</th>\n",
       "      <th>Low</th>\n",
       "      <th>Close</th>\n",
       "      <th>Volume</th>\n",
       "    </tr>\n",
       "    <tr>\n",
       "      <th>Date</th>\n",
       "      <th></th>\n",
       "      <th></th>\n",
       "      <th></th>\n",
       "      <th></th>\n",
       "      <th></th>\n",
       "    </tr>\n",
       "  </thead>\n",
       "  <tbody>\n",
       "    <tr>\n",
       "      <th>2017-11-24</th>\n",
       "      <td>175.10</td>\n",
       "      <td>175.50</td>\n",
       "      <td>174.65</td>\n",
       "      <td>174.97</td>\n",
       "      <td>14026673</td>\n",
       "    </tr>\n",
       "    <tr>\n",
       "      <th>2017-11-22</th>\n",
       "      <td>173.36</td>\n",
       "      <td>175.00</td>\n",
       "      <td>173.05</td>\n",
       "      <td>174.96</td>\n",
       "      <td>25588925</td>\n",
       "    </tr>\n",
       "    <tr>\n",
       "      <th>2017-11-21</th>\n",
       "      <td>170.78</td>\n",
       "      <td>173.70</td>\n",
       "      <td>170.78</td>\n",
       "      <td>173.14</td>\n",
       "      <td>25131295</td>\n",
       "    </tr>\n",
       "    <tr>\n",
       "      <th>2017-11-20</th>\n",
       "      <td>170.29</td>\n",
       "      <td>170.56</td>\n",
       "      <td>169.56</td>\n",
       "      <td>169.98</td>\n",
       "      <td>16262447</td>\n",
       "    </tr>\n",
       "    <tr>\n",
       "      <th>2017-11-17</th>\n",
       "      <td>171.04</td>\n",
       "      <td>171.39</td>\n",
       "      <td>169.64</td>\n",
       "      <td>170.15</td>\n",
       "      <td>21899544</td>\n",
       "    </tr>\n",
       "  </tbody>\n",
       "</table>\n",
       "</div>"
      ],
      "text/plain": [
       "              Open    High     Low   Close    Volume\n",
       "Date                                                \n",
       "2017-11-24  175.10  175.50  174.65  174.97  14026673\n",
       "2017-11-22  173.36  175.00  173.05  174.96  25588925\n",
       "2017-11-21  170.78  173.70  170.78  173.14  25131295\n",
       "2017-11-20  170.29  170.56  169.56  169.98  16262447\n",
       "2017-11-17  171.04  171.39  169.64  170.15  21899544"
      ]
     },
     "execution_count": 8,
     "metadata": {},
     "output_type": "execute_result"
    }
   ],
   "source": [
    "# Importing a pandas library\n",
    "import pandas as pd\n",
    "\n",
    "# reading a csv file and making into readable format\n",
    "stock = pd.read_csv('/Users/tanguduavinash/Desktop/R Datasets/aapl.csv', parse_dates = ['Date'], index_col='Date')\n",
    "\n",
    "stock.head()"
   ]
  },
  {
   "cell_type": "code",
   "execution_count": 7,
   "metadata": {},
   "outputs": [
    {
     "data": {
      "text/plain": [
       "pandas._libs.tslib.Timestamp"
      ]
     },
     "execution_count": 7,
     "metadata": {},
     "output_type": "execute_result"
    }
   ],
   "source": [
    "type(stock.Date[0])"
   ]
  },
  {
   "cell_type": "code",
   "execution_count": 11,
   "metadata": {},
   "outputs": [
    {
     "data": {
      "text/plain": [
       "DatetimeIndex(['2017-11-24', '2017-11-22', '2017-11-21', '2017-11-20',\n",
       "               '2017-11-17', '2017-11-16', '2017-11-15', '2017-11-14',\n",
       "               '2017-11-13', '2017-11-10',\n",
       "               ...\n",
       "               '2016-12-09', '2016-12-08', '2016-12-07', '2016-12-06',\n",
       "               '2016-12-05', '2016-12-02', '2016-12-01', '2016-11-30',\n",
       "               '2016-11-29', '2016-11-28'],\n",
       "              dtype='datetime64[ns]', name='Date', length=251, freq=None)"
      ]
     },
     "execution_count": 11,
     "metadata": {},
     "output_type": "execute_result"
    }
   ],
   "source": [
    "stock.index"
   ]
  },
  {
   "cell_type": "code",
   "execution_count": 15,
   "metadata": {},
   "outputs": [
    {
     "data": {
      "text/html": [
       "<div>\n",
       "<style>\n",
       "    .dataframe thead tr:only-child th {\n",
       "        text-align: right;\n",
       "    }\n",
       "\n",
       "    .dataframe thead th {\n",
       "        text-align: left;\n",
       "    }\n",
       "\n",
       "    .dataframe tbody tr th {\n",
       "        vertical-align: top;\n",
       "    }\n",
       "</style>\n",
       "<table border=\"1\" class=\"dataframe\">\n",
       "  <thead>\n",
       "    <tr style=\"text-align: right;\">\n",
       "      <th></th>\n",
       "      <th>Open</th>\n",
       "      <th>High</th>\n",
       "      <th>Low</th>\n",
       "      <th>Close</th>\n",
       "      <th>Volume</th>\n",
       "    </tr>\n",
       "    <tr>\n",
       "      <th>Date</th>\n",
       "      <th></th>\n",
       "      <th></th>\n",
       "      <th></th>\n",
       "      <th></th>\n",
       "      <th></th>\n",
       "    </tr>\n",
       "  </thead>\n",
       "  <tbody>\n",
       "    <tr>\n",
       "      <th>2017-11-07</th>\n",
       "      <td>173.91</td>\n",
       "      <td>175.25</td>\n",
       "      <td>173.60</td>\n",
       "      <td>174.81</td>\n",
       "      <td>24361485</td>\n",
       "    </tr>\n",
       "    <tr>\n",
       "      <th>2017-11-06</th>\n",
       "      <td>172.36</td>\n",
       "      <td>174.99</td>\n",
       "      <td>171.72</td>\n",
       "      <td>174.25</td>\n",
       "      <td>35026306</td>\n",
       "    </tr>\n",
       "    <tr>\n",
       "      <th>2017-11-03</th>\n",
       "      <td>174.00</td>\n",
       "      <td>174.26</td>\n",
       "      <td>171.12</td>\n",
       "      <td>172.50</td>\n",
       "      <td>59398631</td>\n",
       "    </tr>\n",
       "    <tr>\n",
       "      <th>2017-11-02</th>\n",
       "      <td>166.60</td>\n",
       "      <td>168.50</td>\n",
       "      <td>165.28</td>\n",
       "      <td>168.11</td>\n",
       "      <td>41393373</td>\n",
       "    </tr>\n",
       "    <tr>\n",
       "      <th>2017-11-01</th>\n",
       "      <td>169.87</td>\n",
       "      <td>169.94</td>\n",
       "      <td>165.61</td>\n",
       "      <td>166.89</td>\n",
       "      <td>33637762</td>\n",
       "    </tr>\n",
       "  </tbody>\n",
       "</table>\n",
       "</div>"
      ],
      "text/plain": [
       "              Open    High     Low   Close    Volume\n",
       "Date                                                \n",
       "2017-11-07  173.91  175.25  173.60  174.81  24361485\n",
       "2017-11-06  172.36  174.99  171.72  174.25  35026306\n",
       "2017-11-03  174.00  174.26  171.12  172.50  59398631\n",
       "2017-11-02  166.60  168.50  165.28  168.11  41393373\n",
       "2017-11-01  169.87  169.94  165.61  166.89  33637762"
      ]
     },
     "execution_count": 15,
     "metadata": {},
     "output_type": "execute_result"
    }
   ],
   "source": [
    "# Printing the values during november month\n",
    "stock[\"2017-11\"].tail(5)"
   ]
  },
  {
   "cell_type": "code",
   "execution_count": 16,
   "metadata": {},
   "outputs": [
    {
     "data": {
      "text/plain": [
       "Open           175.11\n",
       "High           176.24\n",
       "Low            174.65\n",
       "Close          176.24\n",
       "Volume    59398631.00\n",
       "dtype: float64"
      ]
     },
     "execution_count": 16,
     "metadata": {},
     "output_type": "execute_result"
    }
   ],
   "source": [
    "stock[\"2017-11\"].max()"
   ]
  },
  {
   "cell_type": "code",
   "execution_count": 18,
   "metadata": {},
   "outputs": [
    {
     "data": {
      "text/plain": [
       "175.11000000000001"
      ]
     },
     "execution_count": 18,
     "metadata": {},
     "output_type": "execute_result"
    }
   ],
   "source": [
    "stock.Open.max()"
   ]
  },
  {
   "cell_type": "code",
   "execution_count": 19,
   "metadata": {},
   "outputs": [
    {
     "data": {
      "text/plain": [
       "count    251.000000\n",
       "mean     144.870518\n",
       "std       16.494027\n",
       "min      109.170000\n",
       "25%      137.635000\n",
       "50%      145.870000\n",
       "75%      156.475000\n",
       "max      175.110000\n",
       "Name: Open, dtype: float64"
      ]
     },
     "execution_count": 19,
     "metadata": {},
     "output_type": "execute_result"
    }
   ],
   "source": [
    "stock.Open.describe()"
   ]
  },
  {
   "cell_type": "code",
   "execution_count": 20,
   "metadata": {},
   "outputs": [
    {
     "data": {
      "text/plain": [
       "145.00633466135457"
      ]
     },
     "execution_count": 20,
     "metadata": {},
     "output_type": "execute_result"
    }
   ],
   "source": [
    "stock.Close.mean()"
   ]
  },
  {
   "cell_type": "code",
   "execution_count": 22,
   "metadata": {},
   "outputs": [
    {
     "data": {
      "text/html": [
       "<div>\n",
       "<style>\n",
       "    .dataframe thead tr:only-child th {\n",
       "        text-align: right;\n",
       "    }\n",
       "\n",
       "    .dataframe thead th {\n",
       "        text-align: left;\n",
       "    }\n",
       "\n",
       "    .dataframe tbody tr th {\n",
       "        vertical-align: top;\n",
       "    }\n",
       "</style>\n",
       "<table border=\"1\" class=\"dataframe\">\n",
       "  <thead>\n",
       "    <tr style=\"text-align: right;\">\n",
       "      <th></th>\n",
       "      <th>Open</th>\n",
       "      <th>High</th>\n",
       "      <th>Low</th>\n",
       "      <th>Close</th>\n",
       "      <th>Volume</th>\n",
       "    </tr>\n",
       "  </thead>\n",
       "  <tbody>\n",
       "    <tr>\n",
       "      <th>count</th>\n",
       "      <td>251.000000</td>\n",
       "      <td>251.000000</td>\n",
       "      <td>251.000000</td>\n",
       "      <td>251.000000</td>\n",
       "      <td>2.510000e+02</td>\n",
       "    </tr>\n",
       "    <tr>\n",
       "      <th>mean</th>\n",
       "      <td>144.870518</td>\n",
       "      <td>145.826335</td>\n",
       "      <td>143.983187</td>\n",
       "      <td>145.006335</td>\n",
       "      <td>2.729231e+07</td>\n",
       "    </tr>\n",
       "    <tr>\n",
       "      <th>std</th>\n",
       "      <td>16.494027</td>\n",
       "      <td>16.536344</td>\n",
       "      <td>16.210360</td>\n",
       "      <td>16.371004</td>\n",
       "      <td>1.135940e+07</td>\n",
       "    </tr>\n",
       "    <tr>\n",
       "      <th>min</th>\n",
       "      <td>109.170000</td>\n",
       "      <td>110.030000</td>\n",
       "      <td>108.250000</td>\n",
       "      <td>109.110000</td>\n",
       "      <td>1.402667e+07</td>\n",
       "    </tr>\n",
       "    <tr>\n",
       "      <th>25%</th>\n",
       "      <td>137.635000</td>\n",
       "      <td>138.135000</td>\n",
       "      <td>136.875000</td>\n",
       "      <td>137.895000</td>\n",
       "      <td>2.045493e+07</td>\n",
       "    </tr>\n",
       "    <tr>\n",
       "      <th>50%</th>\n",
       "      <td>145.870000</td>\n",
       "      <td>147.200000</td>\n",
       "      <td>145.110000</td>\n",
       "      <td>146.340000</td>\n",
       "      <td>2.450730e+07</td>\n",
       "    </tr>\n",
       "    <tr>\n",
       "      <th>75%</th>\n",
       "      <td>156.475000</td>\n",
       "      <td>157.385000</td>\n",
       "      <td>155.190000</td>\n",
       "      <td>156.085000</td>\n",
       "      <td>3.048282e+07</td>\n",
       "    </tr>\n",
       "    <tr>\n",
       "      <th>max</th>\n",
       "      <td>175.110000</td>\n",
       "      <td>176.240000</td>\n",
       "      <td>174.650000</td>\n",
       "      <td>176.240000</td>\n",
       "      <td>1.119850e+08</td>\n",
       "    </tr>\n",
       "  </tbody>\n",
       "</table>\n",
       "</div>"
      ],
      "text/plain": [
       "             Open        High         Low       Close        Volume\n",
       "count  251.000000  251.000000  251.000000  251.000000  2.510000e+02\n",
       "mean   144.870518  145.826335  143.983187  145.006335  2.729231e+07\n",
       "std     16.494027   16.536344   16.210360   16.371004  1.135940e+07\n",
       "min    109.170000  110.030000  108.250000  109.110000  1.402667e+07\n",
       "25%    137.635000  138.135000  136.875000  137.895000  2.045493e+07\n",
       "50%    145.870000  147.200000  145.110000  146.340000  2.450730e+07\n",
       "75%    156.475000  157.385000  155.190000  156.085000  3.048282e+07\n",
       "max    175.110000  176.240000  174.650000  176.240000  1.119850e+08"
      ]
     },
     "execution_count": 22,
     "metadata": {},
     "output_type": "execute_result"
    }
   ],
   "source": [
    "# Finding the mean, mode during the fiscal year 2017 \n",
    "stock.describe()"
   ]
  },
  {
   "cell_type": "code",
   "execution_count": 23,
   "metadata": {},
   "outputs": [
    {
     "data": {
      "text/html": [
       "<div>\n",
       "<style>\n",
       "    .dataframe thead tr:only-child th {\n",
       "        text-align: right;\n",
       "    }\n",
       "\n",
       "    .dataframe thead th {\n",
       "        text-align: left;\n",
       "    }\n",
       "\n",
       "    .dataframe tbody tr th {\n",
       "        vertical-align: top;\n",
       "    }\n",
       "</style>\n",
       "<table border=\"1\" class=\"dataframe\">\n",
       "  <thead>\n",
       "    <tr style=\"text-align: right;\">\n",
       "      <th></th>\n",
       "      <th>Open</th>\n",
       "      <th>High</th>\n",
       "      <th>Low</th>\n",
       "      <th>Close</th>\n",
       "      <th>Volume</th>\n",
       "    </tr>\n",
       "    <tr>\n",
       "      <th>Date</th>\n",
       "      <th></th>\n",
       "      <th></th>\n",
       "      <th></th>\n",
       "      <th></th>\n",
       "      <th></th>\n",
       "    </tr>\n",
       "  </thead>\n",
       "  <tbody>\n",
       "    <tr>\n",
       "      <th>2017-10-18</th>\n",
       "      <td>160.42</td>\n",
       "      <td>160.71</td>\n",
       "      <td>159.6</td>\n",
       "      <td>159.76</td>\n",
       "      <td>16374164</td>\n",
       "    </tr>\n",
       "  </tbody>\n",
       "</table>\n",
       "</div>"
      ],
      "text/plain": [
       "              Open    High    Low   Close    Volume\n",
       "Date                                               \n",
       "2017-10-18  160.42  160.71  159.6  159.76  16374164"
      ]
     },
     "execution_count": 23,
     "metadata": {},
     "output_type": "execute_result"
    }
   ],
   "source": [
    "# FInding the stock price on particular day\n",
    "stock['2017-10-18']"
   ]
  },
  {
   "cell_type": "code",
   "execution_count": 28,
   "metadata": {},
   "outputs": [
    {
     "data": {
      "text/html": [
       "<div>\n",
       "<style>\n",
       "    .dataframe thead tr:only-child th {\n",
       "        text-align: right;\n",
       "    }\n",
       "\n",
       "    .dataframe thead th {\n",
       "        text-align: left;\n",
       "    }\n",
       "\n",
       "    .dataframe tbody tr th {\n",
       "        vertical-align: top;\n",
       "    }\n",
       "</style>\n",
       "<table border=\"1\" class=\"dataframe\">\n",
       "  <thead>\n",
       "    <tr style=\"text-align: right;\">\n",
       "      <th></th>\n",
       "      <th>Open</th>\n",
       "      <th>High</th>\n",
       "      <th>Low</th>\n",
       "      <th>Close</th>\n",
       "      <th>Volume</th>\n",
       "    </tr>\n",
       "    <tr>\n",
       "      <th>Date</th>\n",
       "      <th></th>\n",
       "      <th></th>\n",
       "      <th></th>\n",
       "      <th></th>\n",
       "      <th></th>\n",
       "    </tr>\n",
       "  </thead>\n",
       "  <tbody>\n",
       "    <tr>\n",
       "      <th>2017-10-31</th>\n",
       "      <td>167.90</td>\n",
       "      <td>169.65</td>\n",
       "      <td>166.94</td>\n",
       "      <td>169.04</td>\n",
       "      <td>36046828</td>\n",
       "    </tr>\n",
       "    <tr>\n",
       "      <th>2017-10-30</th>\n",
       "      <td>163.89</td>\n",
       "      <td>168.07</td>\n",
       "      <td>163.72</td>\n",
       "      <td>166.72</td>\n",
       "      <td>44700772</td>\n",
       "    </tr>\n",
       "    <tr>\n",
       "      <th>2017-10-27</th>\n",
       "      <td>159.29</td>\n",
       "      <td>163.60</td>\n",
       "      <td>158.70</td>\n",
       "      <td>163.05</td>\n",
       "      <td>44454160</td>\n",
       "    </tr>\n",
       "    <tr>\n",
       "      <th>2017-10-26</th>\n",
       "      <td>157.23</td>\n",
       "      <td>157.83</td>\n",
       "      <td>156.78</td>\n",
       "      <td>157.41</td>\n",
       "      <td>17000469</td>\n",
       "    </tr>\n",
       "    <tr>\n",
       "      <th>2017-10-25</th>\n",
       "      <td>156.91</td>\n",
       "      <td>157.55</td>\n",
       "      <td>155.27</td>\n",
       "      <td>156.41</td>\n",
       "      <td>21207098</td>\n",
       "    </tr>\n",
       "    <tr>\n",
       "      <th>2017-10-24</th>\n",
       "      <td>156.29</td>\n",
       "      <td>157.42</td>\n",
       "      <td>156.20</td>\n",
       "      <td>157.10</td>\n",
       "      <td>17757230</td>\n",
       "    </tr>\n",
       "    <tr>\n",
       "      <th>2017-10-23</th>\n",
       "      <td>156.89</td>\n",
       "      <td>157.69</td>\n",
       "      <td>155.50</td>\n",
       "      <td>156.17</td>\n",
       "      <td>21984327</td>\n",
       "    </tr>\n",
       "    <tr>\n",
       "      <th>2017-10-20</th>\n",
       "      <td>156.61</td>\n",
       "      <td>157.75</td>\n",
       "      <td>155.96</td>\n",
       "      <td>156.25</td>\n",
       "      <td>23974146</td>\n",
       "    </tr>\n",
       "    <tr>\n",
       "      <th>2017-10-19</th>\n",
       "      <td>156.75</td>\n",
       "      <td>157.08</td>\n",
       "      <td>155.02</td>\n",
       "      <td>155.98</td>\n",
       "      <td>42584166</td>\n",
       "    </tr>\n",
       "    <tr>\n",
       "      <th>2017-10-18</th>\n",
       "      <td>160.42</td>\n",
       "      <td>160.71</td>\n",
       "      <td>159.60</td>\n",
       "      <td>159.76</td>\n",
       "      <td>16374164</td>\n",
       "    </tr>\n",
       "    <tr>\n",
       "      <th>2017-10-17</th>\n",
       "      <td>159.78</td>\n",
       "      <td>160.87</td>\n",
       "      <td>159.23</td>\n",
       "      <td>160.47</td>\n",
       "      <td>18997275</td>\n",
       "    </tr>\n",
       "    <tr>\n",
       "      <th>2017-10-16</th>\n",
       "      <td>157.90</td>\n",
       "      <td>160.00</td>\n",
       "      <td>157.65</td>\n",
       "      <td>159.88</td>\n",
       "      <td>24121452</td>\n",
       "    </tr>\n",
       "    <tr>\n",
       "      <th>2017-10-13</th>\n",
       "      <td>156.73</td>\n",
       "      <td>157.28</td>\n",
       "      <td>156.41</td>\n",
       "      <td>156.99</td>\n",
       "      <td>16394188</td>\n",
       "    </tr>\n",
       "    <tr>\n",
       "      <th>2017-10-12</th>\n",
       "      <td>156.35</td>\n",
       "      <td>157.37</td>\n",
       "      <td>155.73</td>\n",
       "      <td>156.00</td>\n",
       "      <td>16125054</td>\n",
       "    </tr>\n",
       "    <tr>\n",
       "      <th>2017-10-11</th>\n",
       "      <td>155.97</td>\n",
       "      <td>156.98</td>\n",
       "      <td>155.75</td>\n",
       "      <td>156.55</td>\n",
       "      <td>16905640</td>\n",
       "    </tr>\n",
       "    <tr>\n",
       "      <th>2017-10-10</th>\n",
       "      <td>156.06</td>\n",
       "      <td>158.00</td>\n",
       "      <td>155.10</td>\n",
       "      <td>155.90</td>\n",
       "      <td>15617014</td>\n",
       "    </tr>\n",
       "    <tr>\n",
       "      <th>2017-10-09</th>\n",
       "      <td>155.81</td>\n",
       "      <td>156.73</td>\n",
       "      <td>155.48</td>\n",
       "      <td>155.84</td>\n",
       "      <td>16262923</td>\n",
       "    </tr>\n",
       "    <tr>\n",
       "      <th>2017-10-06</th>\n",
       "      <td>154.97</td>\n",
       "      <td>155.49</td>\n",
       "      <td>154.56</td>\n",
       "      <td>155.30</td>\n",
       "      <td>17407558</td>\n",
       "    </tr>\n",
       "    <tr>\n",
       "      <th>2017-10-05</th>\n",
       "      <td>154.18</td>\n",
       "      <td>155.44</td>\n",
       "      <td>154.05</td>\n",
       "      <td>155.39</td>\n",
       "      <td>21283769</td>\n",
       "    </tr>\n",
       "    <tr>\n",
       "      <th>2017-10-04</th>\n",
       "      <td>153.63</td>\n",
       "      <td>153.86</td>\n",
       "      <td>152.46</td>\n",
       "      <td>153.48</td>\n",
       "      <td>20163750</td>\n",
       "    </tr>\n",
       "    <tr>\n",
       "      <th>2017-10-03</th>\n",
       "      <td>154.01</td>\n",
       "      <td>155.09</td>\n",
       "      <td>153.91</td>\n",
       "      <td>154.48</td>\n",
       "      <td>16230293</td>\n",
       "    </tr>\n",
       "    <tr>\n",
       "      <th>2017-10-02</th>\n",
       "      <td>154.26</td>\n",
       "      <td>154.45</td>\n",
       "      <td>152.72</td>\n",
       "      <td>153.81</td>\n",
       "      <td>18698842</td>\n",
       "    </tr>\n",
       "  </tbody>\n",
       "</table>\n",
       "</div>"
      ],
      "text/plain": [
       "              Open    High     Low   Close    Volume\n",
       "Date                                                \n",
       "2017-10-31  167.90  169.65  166.94  169.04  36046828\n",
       "2017-10-30  163.89  168.07  163.72  166.72  44700772\n",
       "2017-10-27  159.29  163.60  158.70  163.05  44454160\n",
       "2017-10-26  157.23  157.83  156.78  157.41  17000469\n",
       "2017-10-25  156.91  157.55  155.27  156.41  21207098\n",
       "2017-10-24  156.29  157.42  156.20  157.10  17757230\n",
       "2017-10-23  156.89  157.69  155.50  156.17  21984327\n",
       "2017-10-20  156.61  157.75  155.96  156.25  23974146\n",
       "2017-10-19  156.75  157.08  155.02  155.98  42584166\n",
       "2017-10-18  160.42  160.71  159.60  159.76  16374164\n",
       "2017-10-17  159.78  160.87  159.23  160.47  18997275\n",
       "2017-10-16  157.90  160.00  157.65  159.88  24121452\n",
       "2017-10-13  156.73  157.28  156.41  156.99  16394188\n",
       "2017-10-12  156.35  157.37  155.73  156.00  16125054\n",
       "2017-10-11  155.97  156.98  155.75  156.55  16905640\n",
       "2017-10-10  156.06  158.00  155.10  155.90  15617014\n",
       "2017-10-09  155.81  156.73  155.48  155.84  16262923\n",
       "2017-10-06  154.97  155.49  154.56  155.30  17407558\n",
       "2017-10-05  154.18  155.44  154.05  155.39  21283769\n",
       "2017-10-04  153.63  153.86  152.46  153.48  20163750\n",
       "2017-10-03  154.01  155.09  153.91  154.48  16230293\n",
       "2017-10-02  154.26  154.45  152.72  153.81  18698842"
      ]
     },
     "execution_count": 28,
     "metadata": {},
     "output_type": "execute_result"
    }
   ],
   "source": [
    "# Predicting of that particular month\n",
    "stock[\"2017-10\"]"
   ]
  },
  {
   "cell_type": "code",
   "execution_count": 31,
   "metadata": {},
   "outputs": [
    {
     "data": {
      "text/plain": [
       "Date\n",
       "2016-11-30    111.183333\n",
       "2016-12-31    114.335714\n",
       "2017-01-31    119.570000\n",
       "2017-02-28    133.713684\n",
       "2017-03-31    140.617826\n",
       "2017-04-30    142.886842\n",
       "2017-05-31    152.227727\n",
       "2017-06-30    147.831364\n",
       "2017-07-31    148.299500\n",
       "2017-08-31    159.021304\n",
       "2017-09-30    157.608500\n",
       "2017-10-31    157.817273\n",
       "2017-11-30    172.472941\n",
       "Freq: M, Name: Close, dtype: float64"
      ]
     },
     "execution_count": 31,
     "metadata": {},
     "output_type": "execute_result"
    }
   ],
   "source": [
    "# Predicting the mean for each month, you can even get for quarter as well\n",
    "\n",
    "stock.Close.resample(\"M\").mean()"
   ]
  },
  {
   "cell_type": "code",
   "execution_count": 32,
   "metadata": {},
   "outputs": [
    {
     "data": {
      "text/plain": [
       "Date\n",
       "2016-12-31    113.941667\n",
       "2017-03-31    131.712419\n",
       "2017-06-30    147.875397\n",
       "2017-09-30    155.169048\n",
       "2017-12-31    164.205641\n",
       "Freq: Q-DEC, Name: Close, dtype: float64"
      ]
     },
     "execution_count": 32,
     "metadata": {},
     "output_type": "execute_result"
    }
   ],
   "source": [
    "stock.Close.resample(\"Q\").mean()"
   ]
  },
  {
   "cell_type": "code",
   "execution_count": 34,
   "metadata": {},
   "outputs": [
    {
     "data": {
      "text/plain": [
       "<matplotlib.axes._subplots.AxesSubplot at 0x116801390>"
      ]
     },
     "execution_count": 34,
     "metadata": {},
     "output_type": "execute_result"
    },
    {
     "data": {
      "image/png": "[encoded data removed]",
      "text/plain": [
       "<matplotlib.figure.Figure at 0x112c22f98>"
      ]
     },
     "metadata": {},
     "output_type": "display_data"
    }
   ],
   "source": [
    "# Plotting a chart of the this monthly mean of the stocks\n",
    "%matplotlib inline\n",
    "stock.Close.resample(\"M\").mean().plot()"
   ]
  },
  {
   "cell_type": "code",
   "execution_count": 44,
   "metadata": {},
   "outputs": [
    {
     "data": {
      "text/plain": [
       "<matplotlib.axes._subplots.AxesSubplot at 0x116830438>"
      ]
     },
     "execution_count": 44,
     "metadata": {},
     "output_type": "execute_result"
    },
    {
     "data": {
      "image/png": "[encoded data removed]",
      "text/plain": [
       "<matplotlib.figure.Figure at 0x1168d2be0>"
      ]
     },
     "metadata": {},
     "output_type": "display_data"
    }
   ],
   "source": [
    "# This is a quarterly frequency\n",
    "\n",
    "stock.Close.resample(\"Q\").mean().plot()"
   ]
  },
  {
   "cell_type": "code",
   "execution_count": 45,
   "metadata": {},
   "outputs": [
    {
     "data": {
      "text/plain": [
       "<matplotlib.axes._subplots.AxesSubplot at 0x1168d2cc0>"
      ]
     },
     "execution_count": 45,
     "metadata": {},
     "output_type": "execute_result"
    },
    {
     "data": {
      "image/png": "[encoded data removed]",
      "text/plain": [
       "<matplotlib.figure.Figure at 0x1168e6630>"
      ]
     },
     "metadata": {},
     "output_type": "display_data"
    }
   ],
   "source": [
    "stock.Close.resample(\"Q\").mean().plot(kind = 'bar')"
   ]
  },
  {
   "cell_type": "code",
   "execution_count": 47,
   "metadata": {},
   "outputs": [
    {
     "data": {
      "text/plain": [
       "<matplotlib.axes._subplots.AxesSubplot at 0x116aa9240>"
      ]
     },
     "execution_count": 47,
     "metadata": {},
     "output_type": "execute_result"
    },
    {
     "data": {
      "image/png": "[encoded data removed]",
      "text/plain": [
       "<matplotlib.figure.Figure at 0x1168e6780>"
      ]
     },
     "metadata": {},
     "output_type": "display_data"
    }
   ],
   "source": [
    "stock.Close.resample(\"M\").mean().plot(kind = 'hist')"
   ]
  },
  {
   "cell_type": "code",
   "execution_count": 48,
   "metadata": {},
   "outputs": [
    {
     "data": {
      "text/plain": [
       "<matplotlib.axes._subplots.AxesSubplot at 0x116ccad30>"
      ]
     },
     "execution_count": 48,
     "metadata": {},
     "output_type": "execute_result"
    },
    {
     "data": {
      "image/png": "[encoded data removed]",
      "text/plain": [
       "<matplotlib.figure.Figure at 0x116cc05f8>"
      ]
     },
     "metadata": {},
     "output_type": "display_data"
    }
   ],
   "source": [
    "stock.Close.plot()"
   ]
  },
  {
   "cell_type": "code",
   "execution_count": 43,
   "metadata": {},
   "outputs": [],
   "source": [
    "# To learn more about the offset strings, please copy this link in your address bar\n",
    "\n",
    "Link = \"http://pandas.pydata.org/pandas-docs/stable/timeseries.html#offset-aliases>\""
   ]
  }
 ],
 "metadata": {
  "kernelspec": {
   "display_name": "Python 3",
   "language": "python",
   "name": "python3"
  },
  "language_info": {
   "codemirror_mode": {
    "name": "ipython",
    "version": 3
   },
   "file_extension": ".py",
   "mimetype": "text/x-python",
   "name": "python",
   "nbconvert_exporter": "python",
   "pygments_lexer": "ipython3",
   "version": "3.6.2"
  }
 },
 "nbformat": 4,
 "nbformat_minor": 2
}
